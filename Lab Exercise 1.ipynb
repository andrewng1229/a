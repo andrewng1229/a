{
 "cells": [
  {
   "cell_type": "markdown",
   "metadata": {},
   "source": [
    "<p style=\"font-family: Arial; font-size:3em;color:black;\"> Lab 1 </p>"
   ]
  },
  {
   "cell_type": "markdown",
   "metadata": {},
   "source": [
    "Students name in this Group:"
   ]
  },
  {
   "cell_type": "code",
   "execution_count": 3,
   "metadata": {},
   "outputs": [],
   "source": [
    "# importing numpy\n",
    "import numpy as np"
   ]
  },
  {
   "cell_type": "code",
   "execution_count": 4,
   "metadata": {},
   "outputs": [
    {
     "name": "stdout",
     "output_type": "stream",
     "text": [
      "False\n"
     ]
    }
   ],
   "source": [
    "# Create a numpy array with the elements \"1, 2, 3, 5, 0\", print the array and test if all of its elements are non-zero.\n",
    "arr1 = np.array([1,2,3,5,0])\n",
    "print(arr1.all())"
   ]
  },
  {
   "cell_type": "code",
   "execution_count": 5,
   "metadata": {},
   "outputs": [
    {
     "name": "stdout",
     "output_type": "stream",
     "text": [
      "True\n"
     ]
    }
   ],
   "source": [
    "# Create a numpy array with the elements \"3, -1, 3, 7, 2\", print the array and test if any of its elements is non-zero.\n",
    "arr2 = np.array([3,-1,3,7,2])\n",
    "print(arr2.any())"
   ]
  },
  {
   "cell_type": "code",
   "execution_count": 6,
   "metadata": {},
   "outputs": [
    {
     "name": "stdout",
     "output_type": "stream",
     "text": [
      "False\n"
     ]
    }
   ],
   "source": [
    "# Create a numpy array with the elements \"0, 0, 0, 0\", print the array and test if any of its elements is non-zero.\n",
    "arr3 = np.array([0, 0, 0, 0])\n",
    "print(arr3.any())"
   ]
  },
  {
   "cell_type": "code",
   "execution_count": 7,
   "metadata": {},
   "outputs": [
    {
     "name": "stdout",
     "output_type": "stream",
     "text": [
      "12\n"
     ]
    }
   ],
   "source": [
    "# Create a numpy array with the elements \"56, -2, 7\", print the array and the amount of memory required to store it.\n",
    "arr4 = np.array([56, -2, -7])\n",
    "print(arr4.nbytes)"
   ]
  },
  {
   "cell_type": "code",
   "execution_count": 8,
   "metadata": {},
   "outputs": [
    {
     "name": "stdout",
     "output_type": "stream",
     "text": [
      "[0. 0. 0. 0. 0. 0. 0. 0. 0. 0.]\n",
      "[1. 1. 1. 1. 1. 1.]\n",
      "[3 3 3 3 3 3 3 3 3 3 3 3]\n"
     ]
    }
   ],
   "source": [
    "# Create a numpy array with 10 zeros and print the array.\n",
    "arr0s = np.zeros(10)\n",
    "print(arr0s)\n",
    "\n",
    "# Create a numpy array with 6 ones and print the array.\n",
    "arr1s = np.ones(6)\n",
    "print(arr1s)\n",
    "\n",
    "# Create a numpy array with 12 '3's and print the array. [3 3 3 3 3 3 3 3 3 3 3 3]\n",
    "arr3s = np.full(12, 3)\n",
    "print(arr3s)\n"
   ]
  },
  {
   "cell_type": "code",
   "execution_count": 12,
   "metadata": {},
   "outputs": [
    {
     "name": "stdout",
     "output_type": "stream",
     "text": [
      "[ 8  9 10 11 12 13 14 15 16 17 18 19 20]\n",
      "[ 8 10 12 14 16 18 20]\n"
     ]
    }
   ],
   "source": [
    "# Create a numpy array of the integers from 8 to 20 and print the array. (make sure 20 itself is included) hint:  use \"arange\" method\n",
    "arr8to20 = np.arange(8, 21, 1)\n",
    "print(arr8to20)\n",
    "\n",
    "# Create a numpy array of the even integers from 8 to 20 and print the array. (make sure 20 itself is included)   hint:  use \"arange\" method\n",
    "arr8to20_even = np.arange(8, 21, 2)\n",
    "print(arr8to20_even)"
   ]
  },
  {
   "cell_type": "code",
   "execution_count": 28,
   "metadata": {},
   "outputs": [
    {
     "name": "stdout",
     "output_type": "stream",
     "text": [
      "---100---\n",
      "Mean: 2.028618304460676\n",
      "Max: 3.7902889512137286\n",
      "Min: 0.7178629073909879\n",
      "Std: 0.5113695790030361\n",
      "---1000---\n",
      "Mean: 1.9809313870402654\n",
      "Max: 3.34330398212506\n",
      "Min: -0.28748707545741725\n",
      "Std: 0.5022412850912168\n",
      "---1000000---\n",
      "Mean: 2.0002140581180443\n",
      "Max: 4.44362482581624\n",
      "Min: -0.5166326000042925\n",
      "Std: 0.4996810979725482\n"
     ]
    }
   ],
   "source": [
    "# Create a numpy array consisting of 100 random elements from normal distribution with mean of 2 and std of 0.5. Print the mean, max, min and std of the array.\n",
    "MEAN = 2\n",
    "STD = 0.5\n",
    "arr100rand = np.random.normal(MEAN, STD, 100)\n",
    "print(\"---100---\")\n",
    "print(\"Mean:\",arr100rand.mean())\n",
    "print(\"Max:\",arr100rand.max())\n",
    "print(\"Min:\",arr100rand.min())\n",
    "print(\"Std:\",arr100rand.std())\n",
    "# print(\"------\")\n",
    "\n",
    "# Create a numpy array consisting of 1000 random elements from normal distribution with mean of 2 and std of 0.5. Print the mean, max, min and std of the array.\n",
    "arr1000rand = np.random.normal(MEAN, STD, 1000)\n",
    "print(\"---1000---\")\n",
    "print(\"Mean:\",arr1000rand.mean())\n",
    "print(\"Max:\",arr1000rand.max())\n",
    "print(\"Min:\",arr1000rand.min())\n",
    "print(\"Std:\",arr1000rand.std())\n",
    "# print(\"------\")\n",
    "\n",
    "# Create a numpy array consisting of 1000000 random elements from normal distribution with mean of 2 and std of 0.5. Print the mean, max, min and std of the array.\n",
    "arr1000000rand = np.random.normal(MEAN, STD, 1000000)\n",
    "print(\"---1000000---\")\n",
    "print(\"Mean:\",arr1000000rand.mean())\n",
    "print(\"Max:\",arr1000000rand.max())\n",
    "print(\"Min:\",arr1000000rand.min())\n",
    "print(\"Std:\",arr1000000rand.std())\n",
    "# print(\"------\")\n",
    "\n",
    "# (Bonus question) Looking at the three above examples with 1000, 5000, and 10000 random elements, do you have any observations about mean and std values?\n",
    "# They are different."
   ]
  },
  {
   "cell_type": "code",
   "execution_count": null,
   "metadata": {},
   "outputs": [],
   "source": []
  }
 ],
 "metadata": {
  "kernelspec": {
   "display_name": "Python 3 (ipykernel)",
   "language": "python",
   "name": "python3"
  },
  "language_info": {
   "codemirror_mode": {
    "name": "ipython",
    "version": 3
   },
   "file_extension": ".py",
   "mimetype": "text/x-python",
   "name": "python",
   "nbconvert_exporter": "python",
   "pygments_lexer": "ipython3",
   "version": "3.10.11"
  }
 },
 "nbformat": 4,
 "nbformat_minor": 1
}
